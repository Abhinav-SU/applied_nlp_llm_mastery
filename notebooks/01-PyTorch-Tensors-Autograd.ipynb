{
 "cells": [
  {
   "cell_type": "code",
   "execution_count": 1,
   "id": "3e4fee14-330f-4750-9c1f-1f8a38d4976a",
   "metadata": {},
   "outputs": [
    {
     "name": "stdout",
     "output_type": "stream",
     "text": [
      "Random Tensor:\n",
      " tensor([[0.5299, 0.2455, 0.0925],\n",
      "        [0.9868, 0.4514, 0.8719]])\n",
      "Shape of Random Tensor: torch.Size([2, 3])\n",
      "Data Type of Random Tensor: torch.float32\n",
      "\n",
      "Tensor from List:\n",
      " tensor([[1, 2, 3],\n",
      "        [4, 5, 6]])\n",
      "\n",
      "Added Tensor (random + list):\n",
      " tensor([[1.5299, 2.2455, 3.0925],\n",
      "        [4.9868, 5.4514, 6.8719]])\n",
      "\n",
      "Tensor on GPU:\n",
      " tensor([[0.5299, 0.2455, 0.0925],\n",
      "        [0.9868, 0.4514, 0.8719]], device='cuda:0')\n"
     ]
    }
   ],
   "source": [
    "import torch\n",
    "\n",
    "# Create a 2x3 tensor of random numbers\n",
    "random_tensor = torch.rand(2, 3)\n",
    "print(\"Random Tensor:\\n\", random_tensor)\n",
    "print(\"Shape of Random Tensor:\", random_tensor.shape)\n",
    "print(\"Data Type of Random Tensor:\", random_tensor.dtype)\n",
    "\n",
    "# Create a tensor from a Python list\n",
    "list_data = [[1, 2, 3], [4, 5, 6]]\n",
    "list_tensor = torch.tensor(list_data)\n",
    "print(\"\\nTensor from List:\\n\", list_tensor)\n",
    "\n",
    "# Perform a simple operation: addition\n",
    "added_tensor = random_tensor + list_tensor\n",
    "print(\"\\nAdded Tensor (random + list):\\n\", added_tensor)\n",
    "\n",
    "# Move a tensor to GPU if available (requires CUDA-enabled GPU)\n",
    "if torch.cuda.is_available():\n",
    "    gpu_tensor = random_tensor.to('cuda')\n",
    "    print(\"\\nTensor on GPU:\\n\", gpu_tensor)\n",
    "else:\n",
    "    print(\"\\nCUDA not available or not configured. Tensor remains on CPU.\")"
   ]
  },
  {
   "cell_type": "code",
   "execution_count": 2,
   "id": "f7f2fbde-c8e1-409b-9d18-17baf7cf9ede",
   "metadata": {},
   "outputs": [
    {
     "name": "stdout",
     "output_type": "stream",
     "text": [
      "x: tensor(2., requires_grad=True)\n",
      "y: tensor(3., requires_grad=True)\n",
      "z = x * y: tensor(6., grad_fn=<MulBackward0>)\n",
      "a = z + 5: tensor(11., grad_fn=<AddBackward0>)\n",
      "b = a ** 2: tensor(121., grad_fn=<PowBackward0>)\n",
      "\n",
      "'Tweak amount' for x (gradient of b with respect to x): tensor(66.)\n",
      "'Tweak amount' for y (gradient of b with respect to y): tensor(44.)\n"
     ]
    }
   ],
   "source": [
    "import torch\n",
    "\n",
    "# Our \"ingredients\" (tensors) that we want PyTorch to \"watch\" and figure out how to tweak.\n",
    "# By setting 'requires_grad=True', we're telling Autograd: \"Keep an eye on this one!\"\n",
    "x = torch.tensor(2.0, requires_grad=True)\n",
    "y = torch.tensor(3.0, requires_grad=True)\n",
    "\n",
    "# These are the \"steps in our recipe\" (operations) that lead to our final \"cake\" (b).\n",
    "# PyTorch is secretly remembering each of these steps because x and y are being \"watched.\"\n",
    "z = x * y       # Step 1: Multiply x and y\n",
    "a = z + 5       # Step 2: Add 5 to the result of z\n",
    "b = a ** 2      # Step 3: Square the result of a (this is our \"final taste\" or output)\n",
    "\n",
    "print(\"x:\", x)\n",
    "print(\"y:\", y)\n",
    "print(\"z = x * y:\", z)\n",
    "print(\"a = z + 5:\", a)\n",
    "print(\"b = a ** 2:\", b)\n",
    "\n",
    "# This is the \"Go Backwards and Adjust!\" command.\n",
    "# We're telling Autograd: \"Okay, now that we have 'b', go back through all the steps you remembered\n",
    "# and calculate the 'tweak amount' (gradient) for x and y to change 'b'.\"\n",
    "b.backward()\n",
    "\n",
    "# Now we can see the \"tweak amounts\" (gradients) that Autograd calculated.\n",
    "# x.grad tells us how much to adjust x to affect b.\n",
    "# y.grad tells us how much to adjust y to affect b.\n",
    "print(\"\\n'Tweak amount' for x (gradient of b with respect to x):\", x.grad)\n",
    "print(\"'Tweak amount' for y (gradient of b with respect to y):\", y.grad)"
   ]
  },
  {
   "cell_type": "code",
   "execution_count": null,
   "id": "6559ee38-1651-4eca-8126-584f85c77eb1",
   "metadata": {},
   "outputs": [],
   "source": []
  }
 ],
 "metadata": {
  "kernelspec": {
   "display_name": "Python 3 (ipykernel)",
   "language": "python",
   "name": "python3"
  },
  "language_info": {
   "codemirror_mode": {
    "name": "ipython",
    "version": 3
   },
   "file_extension": ".py",
   "mimetype": "text/x-python",
   "name": "python",
   "nbconvert_exporter": "python",
   "pygments_lexer": "ipython3",
   "version": "3.13.5"
  }
 },
 "nbformat": 4,
 "nbformat_minor": 5
}
