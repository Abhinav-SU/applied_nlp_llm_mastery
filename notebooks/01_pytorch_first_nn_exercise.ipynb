{
 "cells": [
  {
   "cell_type": "code",
   "execution_count": 1,
   "id": "f425bd7e-c171-4d86-b159-81778596f14b",
   "metadata": {},
   "outputs": [],
   "source": [
    "import torch\n",
    "import torch.nn as nn # nn contains all the modules like Linear, ReLU etc.\n",
    "import torch.nn.functional as F # F contains functional implementations of activations etc.\n",
    "\n",
    "# 1. Define your network as a Python class\n",
    "class SimpleNeuralNetwork(nn.Module):\n",
    "\n",
    "    # 2. The '__init__' method: Define the layers (like Linear, ReLU)\n",
    "    def __init__(self, input_size, hidden_size, output_size):\n",
    "        super(SimpleNeuralNetwork, self).__init__() # Always call the parent constructor!\n",
    "\n",
    "        # Define your layers here. 'nn.Linear' is a \"fully connected\" layer.\n",
    "        # It takes input from 'input_size' neurons and outputs to 'hidden_size' neurons,\n",
    "        # automatically creating and managing weights and biases.\n",
    "        self.fc1 = nn.Linear(input_size, hidden_size)\n",
    "\n",
    "        # Our activation function. ReLU is commonly used in hidden layers.\n",
    "        # This one doesn't have learnable parameters, so it can also be defined in 'forward'.\n",
    "        # For simplicity, we can define it here or use F.relu in forward.\n",
    "        # self.relu = nn.ReLU() # Option 1: define as a module\n",
    "\n",
    "        self.fc2 = nn.Linear(hidden_size, output_size)\n",
    "\n",
    "    # 3. The 'forward' method: Describe how data flows through the layers\n",
    "    def forward(self, x):\n",
    "        # Data comes in 'x'\n",
    "\n",
    "        # Pass x through the first fully connected layer (self.fc1)\n",
    "        x = self.fc1(x)\n",
    "        # Apply the ReLU activation function.\n",
    "        x = F.relu(x) # Option 2: use the functional API directly\n",
    "\n",
    "        # Pass through the second fully connected layer (self.fc2)\n",
    "        x = self.fc2(x)\n",
    "\n",
    "        # For a simple classification (like our click/no-click), we might\n",
    "        # apply a Sigmoid here. For multi-class (cat/dog/bird), it would be Softmax.\n",
    "        # For this example, let's assume we'll apply activation later (e.g., as part of the loss).\n",
    "        # x = torch.sigmoid(x) # Example if it were a binary output\n",
    "\n",
    "        return x"
   ]
  },
  {
   "cell_type": "code",
   "execution_count": 4,
   "id": "82f2046e-ef86-4405-845e-7e43baee129f",
   "metadata": {},
   "outputs": [
    {
     "name": "stdout",
     "output_type": "stream",
     "text": [
      "Output of the model: tensor([[0.3919]], grad_fn=<AddmmBackward0>)\n",
      "Output shape: torch.Size([1, 1])\n"
     ]
    }
   ],
   "source": [
    "import torch\n",
    "import torch.nn as nn\n",
    "import torch.nn.functional as F\n",
    "\n",
    "class MySimpleRegressor(nn.Module):\n",
    "    def __init__(self, input_size, hidden_size, output_size):\n",
    "        super(MySimpleRegressor, self).__init__()\n",
    "        # Your code for defining layers goes here\n",
    "        self.fc1= nn.Linear(input_size,hidden_size)\n",
    "\n",
    "        self.fc2= nn.Linear(hidden_size,output_size)\n",
    "\n",
    "    def forward(self, x):\n",
    "        # Your code for the forward pass goes here\n",
    "        x = self.fc1(x)\n",
    "\n",
    "        x = F.relu(x)\n",
    "\n",
    "        x = self.fc2(x)\n",
    "        \n",
    "        return x\n",
    "\n",
    "# You can test it by instantiating it and passing some dummy data:\n",
    "model = MySimpleRegressor(input_size=5, hidden_size=10, output_size=1)\n",
    "dummy_input = torch.randn(1, 5) # A single sample with 5 features\n",
    "output = model(dummy_input)\n",
    "print(\"Output of the model:\", output)\n",
    "print(\"Output shape:\", output.shape)"
   ]
  },
  {
   "cell_type": "code",
   "execution_count": null,
   "id": "599f31d9-757b-4170-91cd-559b2aaa8928",
   "metadata": {},
   "outputs": [],
   "source": []
  }
 ],
 "metadata": {
  "kernelspec": {
   "display_name": "Python 3 (ipykernel)",
   "language": "python",
   "name": "python3"
  },
  "language_info": {
   "codemirror_mode": {
    "name": "ipython",
    "version": 3
   },
   "file_extension": ".py",
   "mimetype": "text/x-python",
   "name": "python",
   "nbconvert_exporter": "python",
   "pygments_lexer": "ipython3",
   "version": "3.13.5"
  }
 },
 "nbformat": 4,
 "nbformat_minor": 5
}
